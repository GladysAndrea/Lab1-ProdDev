{
 "cells": [
  {
   "cell_type": "markdown",
   "metadata": {},
   "source": [
    "#  Laboratorio 1\n",
    "\n",
    "##### Gladys Andrea Rodríguez Guerrero  -  20006107"
   ]
  },
  {
   "cell_type": "markdown",
   "metadata": {},
   "source": [
    "### Librerías a utilizar"
   ]
  },
  {
   "cell_type": "code",
   "execution_count": 1,
   "metadata": {},
   "outputs": [],
   "source": [
    "import numpy as np\n",
    "import pandas as pd"
   ]
  },
  {
   "cell_type": "code",
   "execution_count": 2,
   "metadata": {},
   "outputs": [],
   "source": [
    "class IngresoData:\n",
    "    def __init__(self, file):\n",
    "        self.data = pd.read_csv(file)\n",
    "        self.dataX = self.data['X']\n",
    "        self.dataY = self.data['Y']\n",
    "\n",
    "        self.arrX = self.dataX.to_numpy()\n",
    "        self.arrY = self.dataY.to_numpy()\n",
    "        \n",
    "class IngresoListas:\n",
    "    def __init__(self, dX, dY):\n",
    "        self.arrX = np.array(dX)\n",
    "        self.arrY = np.array(dY)"
   ]
  },
  {
   "cell_type": "code",
   "execution_count": 3,
   "metadata": {},
   "outputs": [],
   "source": [
    "class regresion:\n",
    "    \n",
    "    def __init__(self, arX, arY):\n",
    "        self.arrX = arX\n",
    "        self.arrY = arY\n",
    "        \n",
    "        self.n = len(self.arrX)\n",
    "        self.avX = self.arrX.mean()\n",
    "        self.avY = self.arrY.mean()\n",
    "        self.XiYi = self.arrY * self.arrX\n",
    "        self.Xi2 = np.power(self.arrX,2)\n",
    "\n",
    "        self.varX = self.arrX.sum()\n",
    "        self.varY = self.arrY.sum()\n",
    "        self.varXiYi = self.XiYi.sum()\n",
    "        self.varX2 = self.Xi2.sum()\n",
    "        self.varX_2 = self.varX ** 2\n",
    "        \n",
    "        self.b1 = ((self.n*self.varXiYi)-(self.varX*self.varY))/((self.n*self.varX2)-(self.varX_2))\n",
    "        self.b0 = self.avY - (self.avX*self.b1)\n",
    "        \n",
    "        self.x = self.arrX - self.avX \n",
    "        self.y = self.arrY - self.avY\n",
    "        self.xi2 = np.power(self.x,2)\n",
    "        self.yi2 = np.power(self.y,2)\n",
    "        self.xiyi = self.y*self.x\n",
    "        self.Yh = self.b0 + (self.b1*self.arrX)\n",
    "        self.u = self.arrY - self.Yh\n",
    "        self.u2 = np.power(self.u,2)\n",
    "\n",
    "        self.varyi2 = self.yi2.sum()\n",
    "        self.varu2 = self.u2.sum()\n",
    "        \n",
    "        self.r2 = 1-(self.varu2/self.varyi2)\n",
    "        self.r = pow(self.r2,0.5)\n",
    "\n",
    "        "
   ]
  },
  {
   "cell_type": "code",
   "execution_count": 4,
   "metadata": {},
   "outputs": [
    {
     "name": "stdout",
     "output_type": "stream",
     "text": [
      "-------     Menú     -------\n",
      "Lista números ............ 1\n",
      "Archivo csv .............. 2\n",
      "----------------------------\n",
      "\n"
     ]
    },
    {
     "name": "stdin",
     "output_type": "stream",
     "text": [
      "Ingrese codigo:  2\n"
     ]
    },
    {
     "name": "stdout",
     "output_type": "stream",
     "text": [
      "Ingresar el nombre del archivo de la siguiente forma\n",
      "data.csv\n"
     ]
    },
    {
     "name": "stdin",
     "output_type": "stream",
     "text": [
      "Ingrese el nombre del archivo:  data.csv\n"
     ]
    },
    {
     "name": "stdout",
     "output_type": "stream",
     "text": [
      "\n",
      "----------------------------------------\n",
      "Valor b0:  -0.01445274725275425\n",
      "Valor b1:  0.7240967032967038\n",
      "Valor r2:  0.90779144019973\n",
      "Valor r :  0.9527808983180394\n",
      "----------------------------------------\n"
     ]
    }
   ],
   "source": [
    "print(\"-------     Menú     -------\")\n",
    "print(\"Lista números ............ 1\")\n",
    "print(\"Archivo csv .............. 2\")\n",
    "print(\"----------------------------\")\n",
    "print(\"\")\n",
    "cod = int(input(\"Ingrese codigo: \"))\n",
    "\n",
    "if((cod == 1) or (cod == 2) ):\n",
    "    \n",
    "    if (cod == 1):\n",
    "        print(\"Ingresar lista manualmente de la siguiente forma\")\n",
    "        print(\"[1,2]\")\n",
    "        dX = str(input(\"Ingrese los valores de X: \"))\n",
    "        dY = str(input(\"Ingrese los valores de Y: \"))\n",
    "        \n",
    "        datos = IngresoListas(dX, dY)\n",
    "\n",
    "        #arrX = np.array(dX)\n",
    "        #arrY = np.array(dY)\n",
    "    else:\n",
    "        print(\"Ingresar el nombre del archivo de la siguiente forma\")\n",
    "        print(\"data.csv\")\n",
    "        file = str(input(\"Ingrese el nombre del archivo: \"))\n",
    "        \n",
    "        datos = IngresoData(file)\n",
    "        #data = pd.read_csv(file)\n",
    "        #dataX = data['X']\n",
    "        #dataY = data['Y']\n",
    "\n",
    "        #arrX = dataX.to_numpy()\n",
    "        #arrY = dataY.to_numpy()\n",
    " \n",
    "    reg = regresion(datos.arrX, datos.arrY)\n",
    "    print(\"\")\n",
    "    print(\"----------------------------------------\")\n",
    "    print(\"Valor b0: \", reg.b0)\n",
    "    print(\"Valor b1: \", reg.b1)\n",
    "    print(\"Valor r2: \", reg.r2)\n",
    "    print(\"Valor r : \", reg.r)\n",
    "    print(\"----------------------------------------\")\n",
    "else:\n",
    "       print('Ingrese código correcto')"
   ]
  },
  {
   "cell_type": "code",
   "execution_count": 5,
   "metadata": {},
   "outputs": [
    {
     "data": {
      "text/plain": [
       "[10, 9.5, 8.75, 7.25, 6.75, 5.5, 4.25, 3.5, 2.25, 1.75]"
      ]
     },
     "execution_count": 5,
     "metadata": {},
     "output_type": "execute_result"
    }
   ],
   "source": [
    "[1,2,3,4,5,6,7,8,9,10]\n",
    "[10,9.5,8.75,7.25,6.75,5.5,4.25,3.5,2.25,1.75]"
   ]
  },
  {
   "cell_type": "code",
   "execution_count": 6,
   "metadata": {},
   "outputs": [
    {
     "data": {
      "text/plain": [
       "array([ 6,  7,  8,  9, 10, 11, 12, 13, 14, 15, 16, 17, 18], dtype=int64)"
      ]
     },
     "execution_count": 6,
     "metadata": {},
     "output_type": "execute_result"
    }
   ],
   "source": [
    "datos.arrX"
   ]
  },
  {
   "cell_type": "code",
   "execution_count": 7,
   "metadata": {},
   "outputs": [
    {
     "data": {
      "text/plain": [
       "0.90779144019973"
      ]
     },
     "execution_count": 7,
     "metadata": {},
     "output_type": "execute_result"
    }
   ],
   "source": [
    "reg = regresion(datos.arrX, datos.arrY)\n",
    "reg.r2"
   ]
  },
  {
   "cell_type": "markdown",
   "metadata": {},
   "source": [
    "class regresion:\n",
    "    def __init__(self, x, y):\n",
    "        self.beta0 = # calcular beta0 utilizando x & y\n",
    "        self.beta1 = # calcular beta1 utilizando x & y\n",
    "        self.x = #lista de valores de x\n",
    "        self.y = #lista de valores de y\n",
    "        \n",
    "        \n",
    "    def predict( self , val ): \n",
    "        #codigo\n",
    "    \n",
    "    def predictN( self , vals ):\n",
    "        #codigo\n",
    "    \n",
    "    def r2( self ):\n",
    "        #codigo\n",
    "        \n",
    "    def r( self ):\n",
    "        #codigo\n",
    "    \n",
    "    def getAllParams( self ):\n",
    "        #codigo\n",
    "    \n",
    "    @classmethod\n",
    "    def from_file (cls, path):\n",
    "        #codigo"
   ]
  },
  {
   "cell_type": "markdown",
   "metadata": {},
   "source": [
    "### Prueba"
   ]
  },
  {
   "cell_type": "code",
   "execution_count": 8,
   "metadata": {},
   "outputs": [
    {
     "data": {
      "text/html": [
       "<div>\n",
       "<style scoped>\n",
       "    .dataframe tbody tr th:only-of-type {\n",
       "        vertical-align: middle;\n",
       "    }\n",
       "\n",
       "    .dataframe tbody tr th {\n",
       "        vertical-align: top;\n",
       "    }\n",
       "\n",
       "    .dataframe thead th {\n",
       "        text-align: right;\n",
       "    }\n",
       "</style>\n",
       "<table border=\"1\" class=\"dataframe\">\n",
       "  <thead>\n",
       "    <tr style=\"text-align: right;\">\n",
       "      <th></th>\n",
       "      <th>Y</th>\n",
       "      <th>X</th>\n",
       "    </tr>\n",
       "  </thead>\n",
       "  <tbody>\n",
       "    <tr>\n",
       "      <th>0</th>\n",
       "      <td>4.4567</td>\n",
       "      <td>6</td>\n",
       "    </tr>\n",
       "    <tr>\n",
       "      <th>1</th>\n",
       "      <td>5.7700</td>\n",
       "      <td>7</td>\n",
       "    </tr>\n",
       "    <tr>\n",
       "      <th>2</th>\n",
       "      <td>5.9787</td>\n",
       "      <td>8</td>\n",
       "    </tr>\n",
       "    <tr>\n",
       "      <th>3</th>\n",
       "      <td>7.3317</td>\n",
       "      <td>9</td>\n",
       "    </tr>\n",
       "    <tr>\n",
       "      <th>4</th>\n",
       "      <td>7.3182</td>\n",
       "      <td>10</td>\n",
       "    </tr>\n",
       "  </tbody>\n",
       "</table>\n",
       "</div>"
      ],
      "text/plain": [
       "        Y   X\n",
       "0  4.4567   6\n",
       "1  5.7700   7\n",
       "2  5.9787   8\n",
       "3  7.3317   9\n",
       "4  7.3182  10"
      ]
     },
     "execution_count": 8,
     "metadata": {},
     "output_type": "execute_result"
    }
   ],
   "source": [
    "data = pd.read_csv('data.csv')\n",
    "data.head()"
   ]
  },
  {
   "cell_type": "markdown",
   "metadata": {},
   "source": [
    "# ------- Variables DF --------\n",
    "n = data.shape[0]\n",
    "avX = data['X'].mean()\n",
    "avY = data['Y'].mean()\n",
    "data['XiYi'] = data['Y']*data['X']\n",
    "data['Xi2'] = data['X'].pow(2)\n",
    "\n",
    "varX = data['X'].sum()\n",
    "varY = data['Y'].sum()\n",
    "varXiYi = data['XiYi'].sum()\n",
    "varX2 = data['Xi2'].sum()\n",
    "varX_2 = varX ** 2\n",
    "\n",
    "# ------- Mostrando datos --------\n",
    "data.head()\n",
    "print(n)\n",
    "print(varX)\n",
    "print(varY)\n",
    "print(varXiYi)\n",
    "print(varX2)\n",
    "print(varX_2)\n",
    "print(avX)\n",
    "print(avY)"
   ]
  },
  {
   "cell_type": "markdown",
   "metadata": {},
   "source": [
    "#b1 = ((n*varXiYi)-(varX*varY))/1\n",
    "b1 = ((n*varXiYi)-(varX*varY))/((n*varX2)-(varX_2))\n",
    "b0 = avY - (avX*b1)\n",
    "\n",
    "print(b0)\n",
    "print(b1)"
   ]
  },
  {
   "cell_type": "markdown",
   "metadata": {},
   "source": [
    "# ------- Otras --------\n",
    "data['x'] = data['X'] - avX \n",
    "data['y'] = data['Y'] - avY\n",
    "data['xi2'] = data['x'].pow(2)\n",
    "data['yi2'] = data['y'].pow(2)\n",
    "data['xiyi'] = data['y']*data['x']\n",
    "data['Y^'] = b0 + (b1*data['X'])\n",
    "data['u'] = data['Y'] - data['Y^']\n",
    "data['u2'] = data['u'].pow(2)\n",
    "\n",
    "varyi2 = data['yi2'].sum()\n",
    "varu2 = data['u2'].sum()\n",
    "\n",
    "data.head()"
   ]
  },
  {
   "cell_type": "markdown",
   "metadata": {},
   "source": [
    "r2 = 1-(varu2/varyi2)\n",
    "r = pow(r2,0.5)\n",
    "r"
   ]
  },
  {
   "cell_type": "code",
   "execution_count": 9,
   "metadata": {},
   "outputs": [],
   "source": [
    "dataX = data['X']\n",
    "dataY = data['Y']\n",
    "\n",
    "arrX = dataX.to_numpy()\n",
    "arrY = dataY.to_numpy()\n",
    "#arrY\n",
    "\n",
    "#dX = [1,2]\n",
    "#dY = [10,20]\n",
    "\n",
    "#arrX = np.array(dX)\n",
    "#arrY = np.array(dY)"
   ]
  },
  {
   "cell_type": "code",
   "execution_count": 10,
   "metadata": {},
   "outputs": [
    {
     "data": {
      "text/plain": [
       "13"
      ]
     },
     "execution_count": 10,
     "metadata": {},
     "output_type": "execute_result"
    }
   ],
   "source": [
    "arrY.sum()\n",
    "len(arrX)"
   ]
  },
  {
   "cell_type": "code",
   "execution_count": 11,
   "metadata": {},
   "outputs": [
    {
     "name": "stdout",
     "output_type": "stream",
     "text": [
      "13\n",
      "156\n",
      "112.7712\n",
      "1485.04\n",
      "2054\n",
      "24336\n",
      "12.0\n",
      "8.674707692307692\n"
     ]
    }
   ],
   "source": [
    "# ------- Variables DF --------\n",
    "n = len(arrX)\n",
    "avX = arrX.mean()\n",
    "avY = arrY.mean()\n",
    "XiYi = arrY * arrX\n",
    "Xi2 = np.power(arrX,2)\n",
    "\n",
    "varX = arrX.sum()\n",
    "varY = arrY.sum()\n",
    "varXiYi = XiYi.sum()\n",
    "varX2 = Xi2.sum()\n",
    "varX_2 = varX ** 2\n",
    "\n",
    "# ------- Mostrando datos --------\n",
    "print(n)\n",
    "print(varX)\n",
    "print(varY)\n",
    "print(varXiYi)\n",
    "print(varX2)\n",
    "print(varX_2)\n",
    "print(avX)\n",
    "print(avY)"
   ]
  },
  {
   "cell_type": "code",
   "execution_count": 12,
   "metadata": {},
   "outputs": [
    {
     "name": "stdout",
     "output_type": "stream",
     "text": [
      "-0.01445274725275425\n",
      "0.7240967032967038\n"
     ]
    }
   ],
   "source": [
    "#b1 = ((n*varXiYi)-(varX*varY))/1\n",
    "b1 = ((n*varXiYi)-(varX*varY))/((n*varX2)-(varX_2))\n",
    "b0 = avY - (avX*b1)\n",
    "\n",
    "print(b0)\n",
    "print(b1)"
   ]
  },
  {
   "cell_type": "code",
   "execution_count": 13,
   "metadata": {},
   "outputs": [],
   "source": [
    "# ------- Otras --------\n",
    "x = arrX - avX \n",
    "y = arrY - avY\n",
    "xi2 = np.power(x,2)\n",
    "yi2 = np.power(y,2)\n",
    "xiyi = y*x\n",
    "Yh = b0 + (b1*arrX)\n",
    "u = arrY - Yh\n",
    "u2 = np.power(u,2)\n",
    "\n",
    "varyi2 = yi2.sum()\n",
    "varu2 = u2.sum()"
   ]
  },
  {
   "cell_type": "code",
   "execution_count": 14,
   "metadata": {},
   "outputs": [
    {
     "data": {
      "text/plain": [
       "0.9527808983180394"
      ]
     },
     "execution_count": 14,
     "metadata": {},
     "output_type": "execute_result"
    }
   ],
   "source": [
    "r2 = 1-(varu2/varyi2)\n",
    "r = pow(r2,0.5)\n",
    "r"
   ]
  },
  {
   "cell_type": "code",
   "execution_count": null,
   "metadata": {},
   "outputs": [],
   "source": []
  }
 ],
 "metadata": {
  "kernelspec": {
   "display_name": "Python 3",
   "language": "python",
   "name": "python3"
  },
  "language_info": {
   "codemirror_mode": {
    "name": "ipython",
    "version": 3
   },
   "file_extension": ".py",
   "mimetype": "text/x-python",
   "name": "python",
   "nbconvert_exporter": "python",
   "pygments_lexer": "ipython3",
   "version": "3.8.5"
  }
 },
 "nbformat": 4,
 "nbformat_minor": 4
}
